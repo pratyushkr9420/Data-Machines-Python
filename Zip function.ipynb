{
 "cells": [
  {
   "cell_type": "markdown",
   "metadata": {
    "id": "5H-rTZn-Y9OY"
   },
   "source": [
    "# **Zip Me Up: ngrams**\n",
    "\n",
    "This lessons fills in the details about Python's built-in zip function. It 's a very powerful utility to help manipulate and maneuver data lists/arrays.\n",
    "\n",
    "**N-Grams Revisited**\n",
    "\n",
    "As a quick refresher, ngrams are a way to group words together (usually from processing text). They are contiguous sequence of n tokens.\n",
    "For example, tri-grams (N = 3) for the first 2 sentences in **The Cat in The Hat** (cith.txt) would be:\n",
    "\n",
    "```\n",
    "The sun did\n",
    "sun did not\n",
    "did not shine\n",
    "not shine It\n",
    "shine It was\n",
    "It was too\n",
    "was too wet\n",
    "too wet to\n",
    "wet to play\n",
    "```\n"
   ]
  },
  {
   "cell_type": "markdown",
   "metadata": {
    "id": "NOoRLSjvaa7K"
   },
   "source": [
    "You can print out the contents of the book using the following command:\n"
   ]
  },
  {
   "cell_type": "code",
   "execution_count": 52,
   "metadata": {
    "colab": {
     "base_uri": "https://localhost:8080/"
    },
    "executionInfo": {
     "elapsed": 108,
     "status": "ok",
     "timestamp": 1634093782940,
     "user": {
      "displayName": "PRATYUSH KUMAR",
      "photoUrl": "https://lh3.googleusercontent.com/a-/AOh14Ghf4mVi7jZSFhHFjQNpiFToq2cNJwDkOu-_CsNdDw=s64",
      "userId": "17344282814232432823"
     },
     "user_tz": 300
    },
    "id": "_J5JYa4VQqc5",
    "outputId": "6c66ba60-edb9-4e1c-9144-4fb5bb62af0b"
   },
   "outputs": [
    {
     "name": "stdout",
     "output_type": "stream",
     "text": [
      "CHAPTER ONE\n",
      "The sun did not shine.\n",
      "It was too wet to play.\n",
      "So we sat in the house\n",
      "All that cold, col\n"
     ]
    }
   ],
   "source": [
    "def read_data_file(filename):\n",
    "  with open(filename, 'r') as fd:\n",
    "    return fd.read()\n",
    "        \n",
    "print(read_data_file(\"cith.txt\")[0:100])"
   ]
  },
  {
   "cell_type": "markdown",
   "metadata": {
    "id": "nBiOpEpXbL7H"
   },
   "source": [
    "One of the easiest ways to generate ngrams is to use Python's array slicing and comprehension syntax:\n",
    "\n",
    "\n",
    "\n",
    "```\n",
    "def get_ngrams(words, n):\n",
    "  total = len(words) - (n-1)\n",
    "  return [words[i:i+n] for i in range(total)]\n",
    "```\n",
    "\n"
   ]
  },
  {
   "cell_type": "code",
   "execution_count": 51,
   "metadata": {
    "executionInfo": {
     "elapsed": 197,
     "status": "ok",
     "timestamp": 1634093779576,
     "user": {
      "displayName": "PRATYUSH KUMAR",
      "photoUrl": "https://lh3.googleusercontent.com/a-/AOh14Ghf4mVi7jZSFhHFjQNpiFToq2cNJwDkOu-_CsNdDw=s64",
      "userId": "17344282814232432823"
     },
     "user_tz": 300
    },
    "id": "SKnb3cwTbN6t"
   },
   "outputs": [],
   "source": [
    "# type&run the above example/exercise in this cell\n",
    "def get_ngrams(words, n):\n",
    "  total = len(words) - (n-1)\n",
    "  return [words[i:i+n] for i in range(total)]\n"
   ]
  },
  {
   "cell_type": "markdown",
   "metadata": {
    "id": "k_I16OcHbTgS"
   },
   "source": [
    "Type in the above code and be sure to experiment. You should be able to parse this out:\n",
    " * Experiment with some simple sentences\n",
    " * 'Prove' to yourself that if there is M words, the number of ngrams would  be M - (n - 1)\n",
    " * words[i:i+n] is just a slice n long of the array words \n",
    " * [ slice for i in range(total) ]"
   ]
  },
  {
   "cell_type": "code",
   "execution_count": 50,
   "metadata": {
    "colab": {
     "base_uri": "https://localhost:8080/"
    },
    "executionInfo": {
     "elapsed": 102,
     "status": "ok",
     "timestamp": 1634093774984,
     "user": {
      "displayName": "PRATYUSH KUMAR",
      "photoUrl": "https://lh3.googleusercontent.com/a-/AOh14Ghf4mVi7jZSFhHFjQNpiFToq2cNJwDkOu-_CsNdDw=s64",
      "userId": "17344282814232432823"
     },
     "user_tz": 300
    },
    "id": "l5SrTBXc2PAI",
    "outputId": "30e44943-8cf2-4a11-ce08-999d34b52573"
   },
   "outputs": [
    {
     "data": {
      "text/plain": [
       "[['I', 'am', 'the'],\n",
       " ['am', 'the', 'vengeance'],\n",
       " ['the', 'vengeance', 'I'],\n",
       " ['vengeance', 'I', 'am'],\n",
       " ['I', 'am', 'the'],\n",
       " ['am', 'the', 'knight'],\n",
       " ['the', 'knight', 'I'],\n",
       " ['knight', 'I', 'am'],\n",
       " ['I', 'am', 'Batman']]"
      ]
     },
     "execution_count": 50,
     "metadata": {},
     "output_type": "execute_result"
    }
   ],
   "source": [
    "words = ['I', 'am', 'the', 'vengeance', 'I', 'am', 'the', 'knight', 'I', 'am', 'Batman']\n",
    "get_ngrams(words, 3)"
   ]
  },
  {
   "cell_type": "markdown",
   "metadata": {
    "id": "Z-jJEWnXcDvT"
   },
   "source": [
    "# **Zip Me UP**\n",
    "We have seen that working with parallel arrays can be cumbersome. The Python zip function can help manage the situation by taking different arrays and combining them into tuples: (Be sure to run and understand what is happening)."
   ]
  },
  {
   "cell_type": "code",
   "execution_count": 49,
   "metadata": {
    "colab": {
     "base_uri": "https://localhost:8080/"
    },
    "executionInfo": {
     "elapsed": 136,
     "status": "ok",
     "timestamp": 1634093772661,
     "user": {
      "displayName": "PRATYUSH KUMAR",
      "photoUrl": "https://lh3.googleusercontent.com/a-/AOh14Ghf4mVi7jZSFhHFjQNpiFToq2cNJwDkOu-_CsNdDw=s64",
      "userId": "17344282814232432823"
     },
     "user_tz": 300
    },
    "id": "f6r5HecLcMGB",
    "outputId": "0823ff12-b6e9-4f03-c566-1ab9a0389bd4"
   },
   "outputs": [
    {
     "name": "stdout",
     "output_type": "stream",
     "text": [
      "('A. Gordon', 'ORL', 23, 81, 220)\n",
      "('A. Holiday', 'IND', 22, 73, 185)\n",
      "('A. Nader', 'OKC', 25, 78, 225)\n"
     ]
    }
   ],
   "source": [
    "players = [\"A. Gordon\", \"A. Holiday\", \"A. Nader\"]\n",
    "teams = [\"ORL\", \"IND\", \"OKC\"]\n",
    "y_old = [23, 22, 25]\n",
    "h_ins = [81, 73, 78]\n",
    "w_lbs = [220, 185, 225]\n",
    "\n",
    "values = zip(players, teams, y_old, h_ins, w_lbs)\n",
    "for t in values:\n",
    "  print(t)"
   ]
  },
  {
   "cell_type": "markdown",
   "metadata": {
    "id": "0kY1kmmVcUu-"
   },
   "source": [
    "The zip function returns an object (i.e. a custom type) that can be used as an iterator.\n",
    "If you want all the items in a list or you want access to a specific element, you simply convert the output into a list:"
   ]
  },
  {
   "cell_type": "code",
   "execution_count": 48,
   "metadata": {
    "colab": {
     "base_uri": "https://localhost:8080/"
    },
    "executionInfo": {
     "elapsed": 162,
     "status": "ok",
     "timestamp": 1634093770247,
     "user": {
      "displayName": "PRATYUSH KUMAR",
      "photoUrl": "https://lh3.googleusercontent.com/a-/AOh14Ghf4mVi7jZSFhHFjQNpiFToq2cNJwDkOu-_CsNdDw=s64",
      "userId": "17344282814232432823"
     },
     "user_tz": 300
    },
    "id": "9KoOf39lcWCl",
    "outputId": "b7e24f65-6405-448c-86fe-7fff916e724b"
   },
   "outputs": [
    {
     "name": "stdout",
     "output_type": "stream",
     "text": [
      "[('A. Gordon', 'ORL', 23, 81, 220), ('A. Holiday', 'IND', 22, 73, 185), ('A. Nader', 'OKC', 25, 78, 225)]\n",
      "('A. Holiday', 'IND', 22, 73, 185)\n"
     ]
    }
   ],
   "source": [
    "values = zip(players, teams, y_old, h_ins, w_lbs)\n",
    "dataset = list(values)\n",
    "print(dataset)\n",
    "print(dataset[1])"
   ]
  },
  {
   "cell_type": "markdown",
   "metadata": {
    "id": "N81i7JWycuOW"
   },
   "source": [
    "Note that we have to recreate the value assigned to values. Once you iterate though the object, it is essentially empty.\n",
    "\n",
    "With zip and list comprehensions, we can even create a dictionary of data from parallel arrays:\n",
    "\n",
    "\n",
    "\n",
    "```\n",
    "values = list(zip(players, teams, y_old, h_ins, w_lbs))\n",
    "keys = ['p{}'.format(i) for i in range(len(values))]\n",
    "dataset = {k:v for k,v in zip(keys, values)}\n",
    "print(dataset)\n",
    "```\n",
    "\n"
   ]
  },
  {
   "cell_type": "code",
   "execution_count": 47,
   "metadata": {
    "colab": {
     "base_uri": "https://localhost:8080/"
    },
    "executionInfo": {
     "elapsed": 111,
     "status": "ok",
     "timestamp": 1634093767850,
     "user": {
      "displayName": "PRATYUSH KUMAR",
      "photoUrl": "https://lh3.googleusercontent.com/a-/AOh14Ghf4mVi7jZSFhHFjQNpiFToq2cNJwDkOu-_CsNdDw=s64",
      "userId": "17344282814232432823"
     },
     "user_tz": 300
    },
    "id": "jfw9scCyc5kY",
    "outputId": "13e864aa-58fc-4872-a1b1-93b7dfcda00b"
   },
   "outputs": [
    {
     "name": "stdout",
     "output_type": "stream",
     "text": [
      "{'p0': ('A. Gordon', 'ORL', 23, 81, 220), 'p1': ('A. Holiday', 'IND', 22, 73, 185), 'p2': ('A. Nader', 'OKC', 25, 78, 225)}\n"
     ]
    }
   ],
   "source": [
    "#type in the above code\n",
    "values = list(zip(players, teams, y_old, h_ins, w_lbs))\n",
    "keys = ['p{}'.format(i) for i in range(len(values))]\n",
    "dataset = {k:v for k,v in zip(keys, values)}\n",
    "print(dataset)"
   ]
  },
  {
   "cell_type": "markdown",
   "metadata": {
    "id": "iOBtjwiUdAXc"
   },
   "source": [
    "**Example: Building columns from rows using zip**\n",
    "\n",
    "Here's a more complex example of using zip to wrangle your data from one format to another. Look at the following familiar dataset. Our goal is to easily get a full column of values in a single list (or tuple). For example, the first column would be ['a',1,4,7] as a list or ('a',1,4,7) as a tuple\n",
    "\n",
    "```\n",
    "a, b, c\n",
    "1, 2, 3\n",
    "4, 5, 6\n",
    "7, 8, 9\n",
    "```\n"
   ]
  },
  {
   "cell_type": "markdown",
   "metadata": {
    "id": "yjqoznQYdYPH"
   },
   "source": [
    "So for this matrix (or table) of data, we want to get the 3 columns of data. Each column will have 4 items. This is an example of a column vector.\n",
    "\n",
    "**Set Up**\n",
    "\n",
    "We can easily read this data into a list of lists. So the first row is the header, the second row is the list [1,2,3], etc. You will want to be sure this code is run before all of the following examples.\n",
    "Before you run this code, try to figure out what gets printed on the last line.\n",
    "\n",
    "\n",
    "\n",
    "```\n",
    "table = [\n",
    "['a','b','c'],\n",
    "[ 1,  2,  3],\n",
    "[ 4,  5,  6],\n",
    "[ 7,  8,  9] ]\n",
    "\n",
    "header = table[0]\n",
    "rows   = table[1:]  # this right here, is why we love slicing\n",
    "print(header, rows)\n",
    "print(rows[1][1])   # what gets printed here (figure it out before running)\n",
    "```\n",
    "\n"
   ]
  },
  {
   "cell_type": "code",
   "execution_count": 46,
   "metadata": {
    "colab": {
     "base_uri": "https://localhost:8080/"
    },
    "executionInfo": {
     "elapsed": 112,
     "status": "ok",
     "timestamp": 1634093763484,
     "user": {
      "displayName": "PRATYUSH KUMAR",
      "photoUrl": "https://lh3.googleusercontent.com/a-/AOh14Ghf4mVi7jZSFhHFjQNpiFToq2cNJwDkOu-_CsNdDw=s64",
      "userId": "17344282814232432823"
     },
     "user_tz": 300
    },
    "id": "JFHg-aTTc_pM",
    "outputId": "df5a2d48-81d2-4709-f92b-48c21784ac37"
   },
   "outputs": [
    {
     "name": "stdout",
     "output_type": "stream",
     "text": [
      "['a', 'b', 'c'] [[1, 2, 3], [4, 5, 6], [7, 8, 9]]\n",
      "5\n"
     ]
    }
   ],
   "source": [
    "#type in the above code\n",
    "table = [\n",
    "['a','b','c'],\n",
    "[ 1,  2,  3],\n",
    "[ 4,  5,  6],\n",
    "[ 7,  8,  9] ]\n",
    "\n",
    "header = table[0]\n",
    "rows   = table[1:]  # this right here, is why we love slicing\n",
    "print(header, rows)\n",
    "print(rows[1][1]) "
   ]
  },
  {
   "cell_type": "markdown",
   "metadata": {
    "id": "AUxHdNdGdwVY"
   },
   "source": [
    "So for this matrix (or table) of data, we want to get the 3 columns of data.\n",
    "\n",
    "**Attempt 1:**\n",
    "\n",
    "Our first attempt will be to use the list concatenation operator '+':"
   ]
  },
  {
   "cell_type": "code",
   "execution_count": 45,
   "metadata": {
    "colab": {
     "base_uri": "https://localhost:8080/"
    },
    "executionInfo": {
     "elapsed": 346,
     "status": "ok",
     "timestamp": 1634093759783,
     "user": {
      "displayName": "PRATYUSH KUMAR",
      "photoUrl": "https://lh3.googleusercontent.com/a-/AOh14Ghf4mVi7jZSFhHFjQNpiFToq2cNJwDkOu-_CsNdDw=s64",
      "userId": "17344282814232432823"
     },
     "user_tz": 300
    },
    "id": "ZrSSRS5Xd3QH",
    "outputId": "84b7385c-070a-4e22-d5a5-69d8aa1b4016"
   },
   "outputs": [
    {
     "name": "stdout",
     "output_type": "stream",
     "text": [
      "['a', 'b', 'c', 1, 2, 3]\n"
     ]
    }
   ],
   "source": [
    "column0 = header + rows[0]\n",
    "print(column0)"
   ]
  },
  {
   "cell_type": "markdown",
   "metadata": {
    "id": "XWwL0Xu3d6hp"
   },
   "source": [
    "This is not what we wanted. Does the output make sense to you? \n",
    "\n",
    "However, even if you wanted do the following:\n",
    "\n",
    "```\n",
    "t = header[0] + str(rows[0][0]) + str(rows[1][0]) + str(rows[2][0])\n",
    "print(t)\n",
    "```\n",
    "The data is hard coded. You want to be able to build this regardless of the numbers of rows in the dataset."
   ]
  },
  {
   "cell_type": "code",
   "execution_count": 44,
   "metadata": {
    "colab": {
     "base_uri": "https://localhost:8080/"
    },
    "executionInfo": {
     "elapsed": 107,
     "status": "ok",
     "timestamp": 1634093756450,
     "user": {
      "displayName": "PRATYUSH KUMAR",
      "photoUrl": "https://lh3.googleusercontent.com/a-/AOh14Ghf4mVi7jZSFhHFjQNpiFToq2cNJwDkOu-_CsNdDw=s64",
      "userId": "17344282814232432823"
     },
     "user_tz": 300
    },
    "id": "qfIsvbyK3GnH",
    "outputId": "e1acf674-7658-44ee-a2e8-633268024957"
   },
   "outputs": [
    {
     "name": "stdout",
     "output_type": "stream",
     "text": [
      "a147\n"
     ]
    }
   ],
   "source": [
    "t = header[0] + str(rows[0][0]) + str(rows[1][0]) + str(rows[2][0])\n",
    "print(t)"
   ]
  },
  {
   "cell_type": "markdown",
   "metadata": {
    "id": "uqgnFRqdeFVA"
   },
   "source": [
    "**Attempt 2:**\n",
    "\n",
    "You could try to use enumeration:"
   ]
  },
  {
   "cell_type": "code",
   "execution_count": 43,
   "metadata": {
    "colab": {
     "base_uri": "https://localhost:8080/"
    },
    "executionInfo": {
     "elapsed": 149,
     "status": "ok",
     "timestamp": 1634093753112,
     "user": {
      "displayName": "PRATYUSH KUMAR",
      "photoUrl": "https://lh3.googleusercontent.com/a-/AOh14Ghf4mVi7jZSFhHFjQNpiFToq2cNJwDkOu-_CsNdDw=s64",
      "userId": "17344282814232432823"
     },
     "user_tz": 300
    },
    "id": "_7PIN7hIeVjl",
    "outputId": "7db06724-259b-4ea2-e1a6-e93649d05e7c"
   },
   "outputs": [
    {
     "name": "stdout",
     "output_type": "stream",
     "text": [
      "[('a', [1, 2, 3]), ('b', [4, 5, 6]), ('c', [7, 8, 9])]\n"
     ]
    }
   ],
   "source": [
    "out = []\n",
    "for i in range(0, len(header)):\n",
    "  l = header[i]\n",
    "  v = rows[i]\n",
    "  out.append( (l,v) )\n",
    "print(out)"
   ]
  },
  {
   "cell_type": "markdown",
   "metadata": {
    "id": "uJC4x8BleZwu"
   },
   "source": [
    "This is closer. It at least builds an array of tuples .. wrong values though. Before continuing, think about what you would try next. You will get so much more out of this lesson if you try to solve it first.\n",
    "\n",
    "**Attempt 3: We need one more loop:**\n",
    "\n",
    "```\n",
    "out = []\n",
    "for i in range(0, len(header)):\n",
    "  l = header[i]\n",
    "  row = rows[i]\n",
    "  for j in range(0, len(row)):\n",
    "    v = row[j]\n",
    "    out.append( (l,v) )\n",
    "print(out)\n",
    "```\n",
    "Does that work?\n",
    "\n",
    "That is a lot of code. But it's important that you understand what is happening.\n",
    "\n",
    "We are looping through the rows in the table (i is the row index). Then for each row, we are looping for each of the values found at row i (j is the column index). So any cell is at table[i][j].\n",
    "\n",
    "**Attempt 4:**\n",
    "\n",
    "Let's try to use zip for solving this. As we have seen, zip works great if you have all your arrays ahead of time. Every parameter is suppose to be a list that will be \"zipped up\" with the other parameters. If we pass in a list for its parameters, zip will do the wrong thing:\n",
    "\n",
    "```\n",
    "print(rows)\n",
    "print(list(zip(rows)))\n",
    "```"
   ]
  },
  {
   "cell_type": "code",
   "execution_count": 42,
   "metadata": {
    "colab": {
     "base_uri": "https://localhost:8080/"
    },
    "executionInfo": {
     "elapsed": 124,
     "status": "ok",
     "timestamp": 1634093748392,
     "user": {
      "displayName": "PRATYUSH KUMAR",
      "photoUrl": "https://lh3.googleusercontent.com/a-/AOh14Ghf4mVi7jZSFhHFjQNpiFToq2cNJwDkOu-_CsNdDw=s64",
      "userId": "17344282814232432823"
     },
     "user_tz": 300
    },
    "id": "VxUyHv1a3S8h",
    "outputId": "96b51862-fa96-4948-bf34-86e0ead3fb0e"
   },
   "outputs": [
    {
     "name": "stdout",
     "output_type": "stream",
     "text": [
      "[('a', 1), ('a', 2), ('a', 3), ('b', 4), ('b', 5), ('b', 6), ('c', 7), ('c', 8), ('c', 9)]\n"
     ]
    }
   ],
   "source": [
    "out = []\n",
    "for i in range(0, len(header)):\n",
    "  l = header[i]\n",
    "  row = rows[i]\n",
    "  for j in range(0, len(row)):\n",
    "    v = row[j]\n",
    "    out.append( (l,v) )\n",
    "print(out)"
   ]
  },
  {
   "cell_type": "code",
   "execution_count": 41,
   "metadata": {
    "colab": {
     "base_uri": "https://localhost:8080/"
    },
    "executionInfo": {
     "elapsed": 188,
     "status": "ok",
     "timestamp": 1634093746099,
     "user": {
      "displayName": "PRATYUSH KUMAR",
      "photoUrl": "https://lh3.googleusercontent.com/a-/AOh14Ghf4mVi7jZSFhHFjQNpiFToq2cNJwDkOu-_CsNdDw=s64",
      "userId": "17344282814232432823"
     },
     "user_tz": 300
    },
    "id": "sXMgKPvRtGDx",
    "outputId": "07dd43f7-982f-4ff1-ebc0-285696eabc74"
   },
   "outputs": [
    {
     "name": "stdout",
     "output_type": "stream",
     "text": [
      "[[1, 2, 3], [4, 5, 6], [7, 8, 9]]\n",
      "[([1, 2, 3],), ([4, 5, 6],), ([7, 8, 9],)]\n"
     ]
    }
   ],
   "source": [
    "# type&run the above example/exercise in this cell\n",
    "print(rows)\n",
    "print(list(zip(rows)))"
   ]
  },
  {
   "cell_type": "markdown",
   "metadata": {
    "id": "OCDj40p-fGpi"
   },
   "source": [
    "The function zip is looking for multiple arguments to zip up. In the above example, the zip function is only being passed one parameter (the rows).\n",
    "\n",
    "**\"Fixing\" zip:**\n",
    "\n",
    "As we have seen Python has a special 'operator', the ✱, that basically takes a list, and flattens it into its single elements:"
   ]
  },
  {
   "cell_type": "code",
   "execution_count": 40,
   "metadata": {
    "colab": {
     "base_uri": "https://localhost:8080/"
    },
    "executionInfo": {
     "elapsed": 456,
     "status": "ok",
     "timestamp": 1634093744193,
     "user": {
      "displayName": "PRATYUSH KUMAR",
      "photoUrl": "https://lh3.googleusercontent.com/a-/AOh14Ghf4mVi7jZSFhHFjQNpiFToq2cNJwDkOu-_CsNdDw=s64",
      "userId": "17344282814232432823"
     },
     "user_tz": 300
    },
    "id": "LyHJnGCyfOpe",
    "outputId": "8acbd89c-0f04-480e-c285-2579a8e8861e"
   },
   "outputs": [
    {
     "name": "stdout",
     "output_type": "stream",
     "text": [
      "[1, 2, 3]\n",
      "1 2 3\n"
     ]
    }
   ],
   "source": [
    "items = [1,2,3]\n",
    "print(items)\n",
    "print(*items)"
   ]
  },
  {
   "cell_type": "markdown",
   "metadata": {
    "id": "QM1L-iW3fSFH"
   },
   "source": [
    "\n",
    "We can use that operator on the list we pass into zip. This operator will essentially pass each row to zip as a separate argument:\n",
    "\n",
    "```\n",
    "print(list(zip(*rows)))\n",
    "```"
   ]
  },
  {
   "cell_type": "code",
   "execution_count": 39,
   "metadata": {
    "colab": {
     "base_uri": "https://localhost:8080/"
    },
    "executionInfo": {
     "elapsed": 99,
     "status": "ok",
     "timestamp": 1634093741525,
     "user": {
      "displayName": "PRATYUSH KUMAR",
      "photoUrl": "https://lh3.googleusercontent.com/a-/AOh14Ghf4mVi7jZSFhHFjQNpiFToq2cNJwDkOu-_CsNdDw=s64",
      "userId": "17344282814232432823"
     },
     "user_tz": 300
    },
    "id": "tQ2ML0ibffUd",
    "outputId": "600aa687-63f8-40d7-d09d-53eaf9ff61cd"
   },
   "outputs": [
    {
     "name": "stdout",
     "output_type": "stream",
     "text": [
      "[(1, 4, 7), (2, 5, 8), (3, 6, 9)]\n"
     ]
    }
   ],
   "source": [
    "# type&run the above example/exercise in this cell\n",
    "print(list(zip(*rows)))"
   ]
  },
  {
   "cell_type": "markdown",
   "metadata": {
    "id": "jYNtQ3bUfZ8K"
   },
   "source": [
    "Oh WOW. So close. Make sure you can take apart that syntax and understand how it works. \n",
    "\n",
    "So zip(*rows) is similar to saying:\n",
    "\n",
    "zip(rows[0], rows[1], rows[2])\n",
    "\n",
    "But we never had to hard code the parameters (those numbers, 0, 1, 2 are 'hard coded'). If the number of rows in the table changes, we won't have to change our code.\n",
    "\n",
    "**Zipping It Up (finally)**\n",
    "```\n",
    "table = [\n",
    "   ['a','b','c'],\n",
    "   [1,2,3],\n",
    "   [4,5,6],\n",
    "   [7,8,9]\n",
    "]\n",
    "print(list(zip(*table)))\n",
    "```"
   ]
  },
  {
   "cell_type": "code",
   "execution_count": 38,
   "metadata": {
    "colab": {
     "base_uri": "https://localhost:8080/"
    },
    "executionInfo": {
     "elapsed": 101,
     "status": "ok",
     "timestamp": 1634093735887,
     "user": {
      "displayName": "PRATYUSH KUMAR",
      "photoUrl": "https://lh3.googleusercontent.com/a-/AOh14Ghf4mVi7jZSFhHFjQNpiFToq2cNJwDkOu-_CsNdDw=s64",
      "userId": "17344282814232432823"
     },
     "user_tz": 300
    },
    "id": "cbRzOx24fW0S",
    "outputId": "5d7e8922-41ea-41a7-8ca4-68982f2430a0"
   },
   "outputs": [
    {
     "name": "stdout",
     "output_type": "stream",
     "text": [
      "[('a', 1, 4, 7), ('b', 2, 5, 8), ('c', 3, 6, 9)]\n"
     ]
    }
   ],
   "source": [
    "# type&run the above example/exercise in this cell\n",
    "table = [\n",
    "   ['a','b','c'],\n",
    "   [1,2,3],\n",
    "   [4,5,6],\n",
    "   [7,8,9]\n",
    "]\n",
    "print(list(zip(*table)))"
   ]
  },
  {
   "cell_type": "markdown",
   "metadata": {
    "id": "ZzXc_YCLfv84"
   },
   "source": [
    "That syntax can be formidable, but once you know what zip does and how the operator works, reading complex syntax becomes a bit easier.\n",
    "\n",
    "#**Ngrams Revisited (Again)**\n",
    "\n",
    "We can use zip to build ngrams as well. Lets start with some simple data:\n",
    "\n",
    "words = \"The sun did not shine It was too wet to play\".split()\n",
    "\n",
    "![](https://drive.google.com/uc?export=view&id=1yUmDI0UrAlXYM2317_8hVtO_JdXiTbBD)\n"
   ]
  },
  {
   "cell_type": "markdown",
   "metadata": {
    "id": "pRYlMQftpwBI"
   },
   "source": [
    "**Bi-grams**\n",
    "\n",
    "For creating bi-grams, we pass in the words AND the words after removing the first word:\n",
    "\n",
    "```\n",
    "# bi-grams\n",
    "words = \"The sun did not shine It was too wet to play\".split()\n",
    "bigrams = list(zip(words, words[1:]))\n",
    "print(bigrams)\n",
    "```"
   ]
  },
  {
   "cell_type": "code",
   "execution_count": 37,
   "metadata": {
    "colab": {
     "base_uri": "https://localhost:8080/"
    },
    "executionInfo": {
     "elapsed": 106,
     "status": "ok",
     "timestamp": 1634093695508,
     "user": {
      "displayName": "PRATYUSH KUMAR",
      "photoUrl": "https://lh3.googleusercontent.com/a-/AOh14Ghf4mVi7jZSFhHFjQNpiFToq2cNJwDkOu-_CsNdDw=s64",
      "userId": "17344282814232432823"
     },
     "user_tz": 300
    },
    "id": "aKSKQ1XEgobV",
    "outputId": "a60c1574-24b1-45d0-8fc3-988d258f6a3a"
   },
   "outputs": [
    {
     "name": "stdout",
     "output_type": "stream",
     "text": [
      "[('The', 'sun'), ('sun', 'did'), ('did', 'not'), ('not', 'shine'), ('shine', 'It'), ('It', 'was'), ('was', 'too'), ('too', 'wet'), ('wet', 'to'), ('to', 'play')]\n"
     ]
    }
   ],
   "source": [
    "# type&run the above example/exercise in this cell\n",
    "# bi-grams\n",
    "words = \"The sun did not shine It was too wet to play\".split()\n",
    "bigrams = list(zip(words, words[1:]))\n",
    "print(bigrams)"
   ]
  },
  {
   "cell_type": "markdown",
   "metadata": {
    "id": "8QGG8dzOg3KY"
   },
   "source": [
    "**Tri-grams**\n",
    "\n",
    "For tri-grams, it's now 3 lists we need to pass to zip:\n",
    "\n",
    "```\n",
    "# tri-grams\n",
    "trigrams = list(zip(words, words[1:], words[2:]))\n",
    "print(trigrams)\n",
    "```"
   ]
  },
  {
   "cell_type": "code",
   "execution_count": 36,
   "metadata": {
    "colab": {
     "base_uri": "https://localhost:8080/"
    },
    "executionInfo": {
     "elapsed": 114,
     "status": "ok",
     "timestamp": 1634093693149,
     "user": {
      "displayName": "PRATYUSH KUMAR",
      "photoUrl": "https://lh3.googleusercontent.com/a-/AOh14Ghf4mVi7jZSFhHFjQNpiFToq2cNJwDkOu-_CsNdDw=s64",
      "userId": "17344282814232432823"
     },
     "user_tz": 300
    },
    "id": "Mptxb6_xg-wS",
    "outputId": "479c75ef-ce58-43dc-90e2-eb1586303cfe"
   },
   "outputs": [
    {
     "name": "stdout",
     "output_type": "stream",
     "text": [
      "[('The', 'sun', 'did'), ('sun', 'did', 'not'), ('did', 'not', 'shine'), ('not', 'shine', 'It'), ('shine', 'It', 'was'), ('It', 'was', 'too'), ('was', 'too', 'wet'), ('too', 'wet', 'to'), ('wet', 'to', 'play')]\n"
     ]
    }
   ],
   "source": [
    "# type&run the above example/exercise in this cell\n",
    "# tri-grams\n",
    "trigrams = list(zip(words, words[1:], words[2:]))\n",
    "print(trigrams)"
   ]
  },
  {
   "cell_type": "markdown",
   "metadata": {
    "id": "Biq4_dHqhGZf"
   },
   "source": [
    "## **N-grams**\n",
    "\n",
    "Do you see a pattern ?\n",
    "\n",
    "* What's the pattern for 4 words ?\n",
    "* ``` zip(words, words[1:], words[2:], words[3:])```\n",
    "\n",
    "We can generalize the parameter pattern using words and n:\n",
    "\n",
    "* ```slices = [words[i:] for i in range(n)]```\n",
    "\n",
    "and then pass the slices to zip:\n",
    "* ```ngrams = zip( *slices )```\n",
    "\n",
    "\n",
    "Once again, be certain you understand why we need to unpack the slices before sending them to zip. Finally, putting it all together:\n",
    "\n",
    "```\n",
    "def find_ngrams_v1(words, n):\n",
    "  return zip(*[words[i:] for i in range(n)])\n",
    "print(list(find_ngrams_v1(words, 3)))\n",
    "```"
   ]
  },
  {
   "cell_type": "code",
   "execution_count": 35,
   "metadata": {
    "colab": {
     "base_uri": "https://localhost:8080/"
    },
    "executionInfo": {
     "elapsed": 120,
     "status": "ok",
     "timestamp": 1634093690196,
     "user": {
      "displayName": "PRATYUSH KUMAR",
      "photoUrl": "https://lh3.googleusercontent.com/a-/AOh14Ghf4mVi7jZSFhHFjQNpiFToq2cNJwDkOu-_CsNdDw=s64",
      "userId": "17344282814232432823"
     },
     "user_tz": 300
    },
    "id": "BmWklMIkiKhs",
    "outputId": "a7920f36-1b00-493d-9743-feb490ccfd61"
   },
   "outputs": [
    {
     "name": "stdout",
     "output_type": "stream",
     "text": [
      "[('The', 'sun', 'did'), ('sun', 'did', 'not'), ('did', 'not', 'shine'), ('not', 'shine', 'It'), ('shine', 'It', 'was'), ('It', 'was', 'too'), ('was', 'too', 'wet'), ('too', 'wet', 'to'), ('wet', 'to', 'play')]\n"
     ]
    }
   ],
   "source": [
    "# type&run the above example/exercise in this cell\n",
    "def find_ngrams_v1(words, n):\n",
    "  return zip(*[words[i:] for i in range(n)])\n",
    "  \n",
    "print(list(find_ngrams_v1(words, 3)))"
   ]
  },
  {
   "cell_type": "markdown",
   "metadata": {
    "id": "pphL-rB5iPAH"
   },
   "source": [
    "### **Joining lists**\n",
    "\n",
    "If you ever want to present ngrams as a unified string, just use string's join method with each of the ngram's list:\n",
    "\n",
    "```\n",
    "def find_ngrams_v2(words, n):\n",
    "  ngrams = zip(*[words[i:] for i in range(n)])\n",
    "  return [\" \".join(ngram) for ngram in ngrams]\n",
    "\n",
    "print(list(find_ngrams_v2(words, 3)))\n",
    "```\n",
    "\n",
    "That was easy !! Take a look at the find_ngrams_v2.\n",
    "\n",
    "At first glance, it may seem impossible to understand but you now have the tools to unpack complex Pythonic code that you will see out in the wild."
   ]
  },
  {
   "cell_type": "code",
   "execution_count": 34,
   "metadata": {
    "colab": {
     "base_uri": "https://localhost:8080/"
    },
    "executionInfo": {
     "elapsed": 116,
     "status": "ok",
     "timestamp": 1634093687143,
     "user": {
      "displayName": "PRATYUSH KUMAR",
      "photoUrl": "https://lh3.googleusercontent.com/a-/AOh14Ghf4mVi7jZSFhHFjQNpiFToq2cNJwDkOu-_CsNdDw=s64",
      "userId": "17344282814232432823"
     },
     "user_tz": 300
    },
    "id": "SMkbBVEMjbXv",
    "outputId": "d19d5e8a-3b44-46c8-eded-5ccbdfd812f5"
   },
   "outputs": [
    {
     "name": "stdout",
     "output_type": "stream",
     "text": [
      "['The sun did', 'sun did not', 'did not shine', 'not shine It', 'shine It was', 'It was too', 'was too wet', 'too wet to', 'wet to play']\n"
     ]
    }
   ],
   "source": [
    "# type&run the above example/exercise in this cell\n",
    "def find_ngrams_v2(words, n):\n",
    "  ngrams = zip(*[words[i:] for i in range(n)])\n",
    "  return [\" \".join(ngram) for ngram in ngrams]\n",
    "\n",
    "print(list(find_ngrams_v2(words, 3)))"
   ]
  },
  {
   "cell_type": "markdown",
   "metadata": {
    "id": "SnZeznqgjpc_"
   },
   "source": [
    "## **Review**\n",
    "\n",
    "Before you go, you should know:\n",
    "\n",
    "**What does zip do?**\n",
    "\n",
    "Zip function creates an iterator that will aggregate elements from two or more iterables. \n",
    "\n",
    "**What do you pass into zip?**\n",
    "\n",
    "You pass into it one more iterables like lists, dictionaries, tuples\n",
    "\n",
    "\n",
    "**What is the return type of zip?** \n",
    "\n",
    "It return an iterator of tuples\n",
    "\n",
    "\n",
    "\n",
    "\n"
   ]
  },
  {
   "cell_type": "markdown",
   "metadata": {
    "id": "rsZqN7SxoSJJ"
   },
   "source": [
    "`## type in your answers to the above review questions ##`"
   ]
  },
  {
   "cell_type": "markdown",
   "metadata": {
    "id": "t1BRzloRoPpj"
   },
   "source": [
    "## **Lesson Assignment:**\n",
    "\n",
    "Be sure to type in all the examples first. For this lesson you will build on find_ngrams_v2.\n",
    "\n",
    "**Create it**\n",
    "\n",
    "Create a function named find_ngrams_bow:\n",
    "\n",
    "* it has 4 parameters (words, n, bow=False, stopwords=[])\n",
    "* words is a list of tokens/words\n",
    "* each word should be converted to lowercase\n",
    "* if bow is True, create ngrams such that order of the ngram words is no longer considered. Hence, each ngram is simply a bag-of-words (BOW). You can implement this by always using the alphabetical order for the words. For example the two ngrams, 'he said fine' and 'fine he said' would be the same ngram in the BOW model.\n",
    "* if stopwords contains words, those words should not be considered part of the text\n",
    "\n",
    "\n",
    "```\n",
    "import Collections\n",
    "def find_ngrams_bow():\n",
    "   return []\n",
    "\n",
    "def simple_test():\n",
    "  text = read_data_file('hp1.txt')\n",
    "  ngrams = find_ngrams_bow(text.split(), 3)\n",
    "  top5 = collections.Counter(ngrams).most_common(5)\n",
    "  print(top5)\n",
    "\n",
    "expected output of simple_test():\n",
    "[('of out the', 63), ('and harry ron', 51), ('end of the', 35), ('of rest the', 34), ('and hermione ron', 32)]\n",
    "```\n"
   ]
  },
  {
   "cell_type": "code",
   "execution_count": 31,
   "metadata": {
    "colab": {
     "base_uri": "https://localhost:8080/"
    },
    "executionInfo": {
     "elapsed": 328,
     "status": "ok",
     "timestamp": 1634093665750,
     "user": {
      "displayName": "PRATYUSH KUMAR",
      "photoUrl": "https://lh3.googleusercontent.com/a-/AOh14Ghf4mVi7jZSFhHFjQNpiFToq2cNJwDkOu-_CsNdDw=s64",
      "userId": "17344282814232432823"
     },
     "user_tz": 300
    },
    "id": "_zcIuTFjCvLi",
    "outputId": "ffd31d0f-2c55-432f-8f44-09161efaaa9e"
   },
   "outputs": [
    {
     "name": "stdout",
     "output_type": "stream",
     "text": [
      "[('of out the', 63), ('and harry ron', 51), ('end of the', 35), ('of rest the', 34), ('and hermione ron', 32)]\n"
     ]
    }
   ],
   "source": [
    "\n",
    "import collections\n",
    "from collections import Counter\n",
    "\n",
    "\n",
    "def find_ngrams_bow(words,n,bow=False, stopwords=[]):\n",
    "  a = (map(lambda x: x.lower(), words))\n",
    "  b = list(a)\n",
    "  for word in list(b):\n",
    "    if word in stopwords:\n",
    "      b.remove(word)\n",
    "  if bow is True:\n",
    "    ngrams = zip(*[b[i:] for i in range(n)])\n",
    "    return [\" \".join(sorted(ngram)) for ngram in ngrams]\n",
    "\n",
    "  return find_ngrams_v2(b, n)\n",
    "\n",
    "\n",
    "def simple_test():\n",
    "  text = read_data_file('hp1.txt')\n",
    "  ngrams = find_ngrams_bow(text.split(), 3, bow=True)\n",
    "  top5 = collections.Counter(ngrams).most_common(5)\n",
    "  print(top5)\n",
    "\n",
    "simple_test()"
   ]
  },
  {
   "cell_type": "markdown",
   "metadata": {
    "id": "Bc89ScJ9mKgz"
   },
   "source": [
    "## **Use it**\n",
    "\n",
    "With everything working, you will now use find_ngrams_bow to help support your research: \n",
    "\n",
    "**Question 1: write a function named q1 that takes no parameters.**\n",
    "\n",
    "The function will use find_ngrams_bow to answer the following question:\n",
    "\n",
    "As the n in ngrams increases, would you expect the BOW ngram counts to be higher or lower than non-BOW version?\n",
    "\n",
    "* make sure you understand the question\n",
    "* answer it BEFORE writing any code\n",
    "* now write the code inside q1 that will help you confirm/deny your answer. You can use any method you want (print statements, analytical calculations, etc).\n",
    "* q1 provides evidence to support the truth"
   ]
  },
  {
   "cell_type": "code",
   "execution_count": 32,
   "metadata": {
    "colab": {
     "base_uri": "https://localhost:8080/"
    },
    "executionInfo": {
     "elapsed": 216,
     "status": "ok",
     "timestamp": 1634093670513,
     "user": {
      "displayName": "PRATYUSH KUMAR",
      "photoUrl": "https://lh3.googleusercontent.com/a-/AOh14Ghf4mVi7jZSFhHFjQNpiFToq2cNJwDkOu-_CsNdDw=s64",
      "userId": "17344282814232432823"
     },
     "user_tz": 300
    },
    "id": "eBHYZ1oDYlOV",
    "outputId": "1135834f-1631-4b44-de51-5700416d5e6b"
   },
   "outputs": [
    {
     "name": "stdout",
     "output_type": "stream",
     "text": [
      "Increasing the n value decreases the total count of ngrams in BOW method\n"
     ]
    }
   ],
   "source": [
    "def q1():\n",
    "  text = read_data_file('hp1.txt')\n",
    "  ngrams1 = find_ngrams_bow(text.split(), 3, bow=True)\n",
    "  ngrams2 = find_ngrams_bow(text.split(), 5, bow=True)\n",
    "  total1 = len(ngrams1)\n",
    "  total2 = len(ngrams2)\n",
    "  if total1 > total2:\n",
    "    print(\"Increasing the n value decreases the total count of ngrams in BOW method\")\n",
    "  elif total1 == total2:\n",
    "    print(\"Increasing the n values does not cause any change in the total count of ngrams in BOW method\")\n",
    "  elif total2 > total1:\n",
    "    print(\"Increasing the n value increases the total count of ngrams in BOW method\")\n",
    "\n",
    "q1()"
   ]
  },
  {
   "cell_type": "markdown",
   "metadata": {
    "id": "y8GfNPkwm0hC"
   },
   "source": [
    "**Question 2: write a function named q2 that takes no parameters.**\n",
    "\n",
    "The function will use find_ngrams_bow to answer the following question:\n",
    "\n",
    "If you add stopwords, should you see higher or lower counts in your ngrams?\n",
    "\n",
    "* make sure you understand the question\n",
    "* answer it BEFORE writing any code\n",
    "* now write the code inside q2 that will help you confirm/deny your answer. You can use any method you want (print statements, analytical calculations, etc).\n",
    "* q2 provides evidence to support the truth"
   ]
  },
  {
   "cell_type": "code",
   "execution_count": 33,
   "metadata": {
    "colab": {
     "base_uri": "https://localhost:8080/"
    },
    "executionInfo": {
     "elapsed": 1451,
     "status": "ok",
     "timestamp": 1634093676195,
     "user": {
      "displayName": "PRATYUSH KUMAR",
      "photoUrl": "https://lh3.googleusercontent.com/a-/AOh14Ghf4mVi7jZSFhHFjQNpiFToq2cNJwDkOu-_CsNdDw=s64",
      "userId": "17344282814232432823"
     },
     "user_tz": 300
    },
    "id": "w8NeP6zkbJOz",
    "outputId": "25312c03-1c31-462e-950b-7a624d25eb2c"
   },
   "outputs": [
    {
     "name": "stdout",
     "output_type": "stream",
     "text": [
      "Adding stopwords decreases the total count of ngrams\n"
     ]
    }
   ],
   "source": [
    "def q2():\n",
    "  text = read_data_file('hp1.txt')\n",
    "  ngrams1 = find_ngrams_bow(text.split(), 3, stopwords=[''])\n",
    "  ngrams2 = find_ngrams_bow(text.split(), 3, stopwords=['ron', 'harry', 'dudley'])\n",
    "  total1 = len(ngrams1)\n",
    "  total2 = len(ngrams2)\n",
    "  if total1 > total2:\n",
    "    print(\"Adding stopwords decreases the total count of ngrams\")\n",
    "  elif total1 == total2:\n",
    "    print(\"Adding stopwords does not cause any change in the total count of ngrams\")\n",
    "  elif total2 > total1:\n",
    "    print(\"Adding stopwords increases the total count of ngrams in BOW method\")\n",
    "\n",
    "q2()"
   ]
  },
  {
   "cell_type": "markdown",
   "metadata": {
    "id": "bLL5cpOrtq0v"
   },
   "source": [
    "**Steps to submit your work:**\n",
    "\n",
    "\n",
    "1.   Download the notebook from Moodle. It is recommended that you use Google Colab to work on it.\n",
    "2.   Upload any supporting files using file upload option within Google Colab.\n",
    "3.   Complete the exercises and/or assignments\n",
    "4.   Download as .ipynb\n",
    "5.   Name the file as \"lastname_firstname_WeekNumber.ipynb\"\n",
    "6.   After following the above steps, submit the final file in Moodle\n",
    "\n",
    "\n",
    "\n",
    "\n",
    "\n",
    "<h1><center>The End!</center></h1>"
   ]
  }
 ],
 "metadata": {
  "colab": {
   "collapsed_sections": [],
   "name": "Week7_zip_me_up_Lesson.ipynb",
   "provenance": []
  },
  "kernelspec": {
   "display_name": "Python 3 (ipykernel)",
   "language": "python",
   "name": "python3"
  },
  "language_info": {
   "name": "python"
  }
 },
 "nbformat": 4,
 "nbformat_minor": 1
}
