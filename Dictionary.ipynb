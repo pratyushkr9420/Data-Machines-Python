{
 "cells": [
  {
   "cell_type": "code",
   "execution_count": 1,
   "id": "animated-turning",
   "metadata": {},
   "outputs": [
    {
     "name": "stdout",
     "output_type": "stream",
     "text": [
      "[100, 200, 300]\n"
     ]
    }
   ],
   "source": [
    "values = [200, 100, 300]\n",
    "print(sorted(values))"
   ]
  },
  {
   "cell_type": "code",
   "execution_count": 5,
   "id": "mysterious-cradle",
   "metadata": {},
   "outputs": [
    {
     "name": "stdout",
     "output_type": "stream",
     "text": [
      "[300, 200, 100]\n"
     ]
    }
   ],
   "source": [
    "print(sorted(values,reverse=True))"
   ]
  },
  {
   "cell_type": "code",
   "execution_count": 1,
   "id": "sorted-plumbing",
   "metadata": {},
   "outputs": [
    {
     "name": "stdout",
     "output_type": "stream",
     "text": [
      "apples 5\n",
      "bananas 12\n",
      "pears 2\n"
     ]
    }
   ],
   "source": [
    "simple = {\"apples\": 5,\"pears\": 2, \"bananas\":12}\n",
    "\n",
    "for k in sorted(simple.keys()):\n",
    "    print(k, simple[k])"
   ]
  },
  {
   "cell_type": "code",
   "execution_count": 15,
   "id": "extended-violin",
   "metadata": {},
   "outputs": [
    {
     "name": "stdout",
     "output_type": "stream",
     "text": [
      "2\n",
      "5\n",
      "12\n"
     ]
    }
   ],
   "source": [
    "for v in sorted(simple.values()):\n",
    "    print(v)"
   ]
  },
  {
   "cell_type": "code",
   "execution_count": 16,
   "id": "elementary-bandwidth",
   "metadata": {},
   "outputs": [
    {
     "name": "stdout",
     "output_type": "stream",
     "text": [
      "apples 5\n",
      "bananas 12\n",
      "pears 2\n"
     ]
    }
   ],
   "source": [
    "for t in sorted(simple.items()):\n",
    "    print(t[0],t[1])"
   ]
  },
  {
   "cell_type": "code",
   "execution_count": 18,
   "id": "applicable-essay",
   "metadata": {},
   "outputs": [
    {
     "name": "stdout",
     "output_type": "stream",
     "text": [
      "pears 2\n",
      "apples 5\n",
      "bananas 12\n"
     ]
    }
   ],
   "source": [
    "def by_value(key):\n",
    "    return simple[key]\n",
    "\n",
    "for k in sorted(simple.keys(), key=by_value):\n",
    "    print(k,simple[k])"
   ]
  },
  {
   "cell_type": "code",
   "execution_count": 25,
   "id": "satisfied-medline",
   "metadata": {},
   "outputs": [
    {
     "name": "stdout",
     "output_type": "stream",
     "text": [
      "pears 2\n",
      "apples 5\n",
      "bananas 12\n"
     ]
    }
   ],
   "source": [
    "def by_val(tuple_item):\n",
    "    \n",
    "    return tuple_item[1]\n",
    "\n",
    "\n",
    "for k in sorted(simple.items(), key=by_val):\n",
    "    print(k[0],k[1])"
   ]
  },
  {
   "cell_type": "code",
   "execution_count": 26,
   "id": "traditional-emergency",
   "metadata": {},
   "outputs": [],
   "source": [
    "complex_map= {\"apples\": {\"count\":12, \"calories\":200}, \"pears\": {\"count\":2, \"calories\":100}, \"bananas\": {\"count\":5, \"calories\":300} }"
   ]
  },
  {
   "cell_type": "code",
   "execution_count": 30,
   "id": "adequate-toner",
   "metadata": {},
   "outputs": [
    {
     "name": "stdout",
     "output_type": "stream",
     "text": [
      "pears {'count': 2, 'calories': 100}\n",
      "bananas {'count': 5, 'calories': 300}\n",
      "apples {'count': 12, 'calories': 200}\n"
     ]
    }
   ],
   "source": [
    "def by_count(key):\n",
    "    return complex_map[key][\"count\"]\n",
    "\n",
    "for k in sorted(complex_map.keys(), key=by_count):\n",
    "    print(k,complex_map[k])\n",
    "    \n",
    "#sorting of a complex dictionary using key value of a dictionary within"
   ]
  },
  {
   "cell_type": "code",
   "execution_count": 32,
   "id": "cosmetic-system",
   "metadata": {},
   "outputs": [
    {
     "name": "stdout",
     "output_type": "stream",
     "text": [
      "('pears', {'count': 2, 'calories': 100})\n",
      "('bananas', {'count': 5, 'calories': 300})\n",
      "('apples', {'count': 12, 'calories': 200})\n"
     ]
    }
   ],
   "source": [
    "def by_count(t):\n",
    "    data = t[1]\n",
    "    return data[\"count\"]\n",
    "\n",
    "for k in sorted(complex_map.items(), key=by_count):\n",
    "    print(k)\n",
    "    \n",
    "#In case you want the return of a tuple instead of key and values individualy, there is need for sorting the tuples using the values of dictionary within the dictionary"
   ]
  },
  {
   "cell_type": "code",
   "execution_count": 34,
   "id": "happy-relay",
   "metadata": {},
   "outputs": [
    {
     "name": "stdout",
     "output_type": "stream",
     "text": [
      "pears {'count': 2, 'calories': 100}\n",
      "apples {'count': 12, 'calories': 200}\n",
      "bananas {'count': 5, 'calories': 300}\n"
     ]
    }
   ],
   "source": [
    "#Excerice Code\n",
    "\n",
    "def by_calorie(key):\n",
    "    return complex_map[key][\"calories\"]\n",
    "\n",
    "for k in sorted(complex_map.keys(), key=by_calorie):\n",
    "    print(k,complex_map[k])"
   ]
  }
 ],
 "metadata": {
  "kernelspec": {
   "display_name": "Python 3 (ipykernel)",
   "language": "python",
   "name": "python3"
  },
  "language_info": {
   "codemirror_mode": {
    "name": "ipython",
    "version": 3
   },
   "file_extension": ".py",
   "mimetype": "text/x-python",
   "name": "python",
   "nbconvert_exporter": "python",
   "pygments_lexer": "ipython3",
   "version": "3.8.8"
  }
 },
 "nbformat": 4,
 "nbformat_minor": 5
}
