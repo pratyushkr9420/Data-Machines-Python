{
 "cells": [
  {
   "cell_type": "code",
   "execution_count": 8,
   "id": "yellow-rachel",
   "metadata": {},
   "outputs": [],
   "source": [
    "##Part 1\n",
    "#Step 1\n",
    "\n",
    "def get_apples():\n",
    "    apples ={\n",
    "        'McIntosh':{\"sweetness\":3,\"tartness\":7},\n",
    "        'Red Delicious':{\"sweetness\":5,\"tartness\":1},\n",
    "        'Fuji':{\"sweetness\":8,\"tartness\":3},\n",
    "        'Gala':{\"sweetness\":6,\"tartness\":1},\n",
    "        'Amborsia':{\"sweetness\":7,\"tartness\":1},\n",
    "        'Honeycrisp':{\"sweetness\":7.5,\"tartness\":8},\n",
    "        'Granny Smith':{\"sweetness\":1,\"tartness\":10}}\n",
    "    return apples"
   ]
  },
  {
   "cell_type": "code",
   "execution_count": 9,
   "id": "loose-welcome",
   "metadata": {},
   "outputs": [
    {
     "name": "stdout",
     "output_type": "stream",
     "text": [
      "('Granny Smith', {'sweetness': 1, 'tartness': 10})\n",
      "('McIntosh', {'sweetness': 3, 'tartness': 7})\n",
      "('Red Delicious', {'sweetness': 5, 'tartness': 1})\n",
      "('Gala', {'sweetness': 6, 'tartness': 1})\n",
      "('Amborsia', {'sweetness': 7, 'tartness': 1})\n",
      "('Honeycrisp', {'sweetness': 7.5, 'tartness': 8})\n",
      "('Fuji', {'sweetness': 8, 'tartness': 3})\n",
      "('Red Delicious', {'sweetness': 5, 'tartness': 1})\n",
      "('Gala', {'sweetness': 6, 'tartness': 1})\n",
      "('Amborsia', {'sweetness': 7, 'tartness': 1})\n",
      "('Fuji', {'sweetness': 8, 'tartness': 3})\n",
      "('McIntosh', {'sweetness': 3, 'tartness': 7})\n",
      "('Honeycrisp', {'sweetness': 7.5, 'tartness': 8})\n",
      "('Granny Smith', {'sweetness': 1, 'tartness': 10})\n"
     ]
    }
   ],
   "source": [
    "#Step 2\n",
    "def by_sweetness(t):\n",
    "    data = t[1]\n",
    "    return data[\"sweetness\"]\n",
    "\n",
    "def by_tartness(t):\n",
    "    data = t[1]\n",
    "    return data[\"tartness\"]\n",
    "\n",
    "for k in sorted(get_apples().items(), key=by_sweetness):\n",
    "    print(k)\n",
    "\n",
    "    \n",
    "    \n",
    "for m in sorted(get_apples().items(), key=by_tartness):\n",
    "    print(m)"
   ]
  },
  {
   "cell_type": "code",
   "execution_count": 10,
   "id": "dangerous-radical",
   "metadata": {},
   "outputs": [
    {
     "name": "stdout",
     "output_type": "stream",
     "text": [
      "[('Fuji', {'sweetness': 8, 'tartness': 3}), ('Honeycrisp', {'sweetness': 7.5, 'tartness': 8}), ('Amborsia', {'sweetness': 7, 'tartness': 1}), ('Gala', {'sweetness': 6, 'tartness': 1}), ('Red Delicious', {'sweetness': 5, 'tartness': 1}), ('McIntosh', {'sweetness': 3, 'tartness': 7}), ('Granny Smith', {'sweetness': 1, 'tartness': 10})]\n"
     ]
    }
   ],
   "source": [
    "#Step 3\n",
    "def apple_sorting(get_apples,by_sweetness):\n",
    "    result = sorted(get_apples().items(), key=by_sweetness, reverse=True)\n",
    "    return result\n",
    "\n",
    "print(apple_sorting(get_apples,by_sweetness))"
   ]
  },
  {
   "cell_type": "code",
   "execution_count": 11,
   "id": "silent-reflection",
   "metadata": {},
   "outputs": [
    {
     "name": "stdout",
     "output_type": "stream",
     "text": [
      "[('apples', 2400), ('bananas', 1500), ('pears', 200)]\n"
     ]
    }
   ],
   "source": [
    "##Part 2\n",
    "data ={\n",
    "       'apples':{\"count\":12,\"calories\":200},\n",
    "       'pears':{\"count\":2,\"calories\":100},\n",
    "       'bananas':{\"count\":5,\"calories\":300},\n",
    "        }\n",
    "\n",
    "def sort_by_total_calories(data):\n",
    "    final_list = []\n",
    "    for k in data:\n",
    "        final_list.append((k,data[k]['count']*data[k]['calories']))\n",
    "        final_list.sort(key=lambda x:x[1],reverse=True)\n",
    "    return final_list\n",
    "\n",
    "print(sort_by_total_calories(data))"
   ]
  },
  {
   "cell_type": "code",
   "execution_count": null,
   "id": "willing-robertson",
   "metadata": {},
   "outputs": [],
   "source": []
  }
 ],
 "metadata": {
  "kernelspec": {
   "display_name": "Python 3",
   "language": "python",
   "name": "python3"
  },
  "language_info": {
   "codemirror_mode": {
    "name": "ipython",
    "version": 3
   },
   "file_extension": ".py",
   "mimetype": "text/x-python",
   "name": "python",
   "nbconvert_exporter": "python",
   "pygments_lexer": "ipython3",
   "version": "3.8.8"
  }
 },
 "nbformat": 4,
 "nbformat_minor": 5
}
